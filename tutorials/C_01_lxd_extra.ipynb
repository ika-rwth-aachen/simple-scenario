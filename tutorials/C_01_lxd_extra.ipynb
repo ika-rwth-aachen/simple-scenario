{
 "cells": [
  {
   "cell_type": "markdown",
   "id": "497b2ea7",
   "metadata": {},
   "source": [
    "# Getting started with the `lxd` extra"
   ]
  },
  {
   "cell_type": "markdown",
   "id": "9456c1ab",
   "metadata": {},
   "source": [
    "To use the code displayed in this Notebook, please install `simple-scenario` with the `lxd` extra\n",
    "\n",
    "```bash\n",
    "pip install simple-scenario[lxd]\n",
    "```\n",
    "\n",
    "and request and download the highD dataset from [https://www.highd-dataset.com/](https://www.highd-dataset.com/)."
   ]
  },
  {
   "cell_type": "markdown",
   "id": "8254ed66",
   "metadata": {},
   "source": [
    "Specify path of highD dataset:"
   ]
  },
  {
   "cell_type": "code",
   "execution_count": null,
   "id": "6b6e924e",
   "metadata": {},
   "outputs": [],
   "source": [
    "highd_dataset_dir = \"/path/to/highD-dataset-v1.0\""
   ]
  },
  {
   "cell_type": "markdown",
   "id": "f44715d6",
   "metadata": {},
   "source": [
    "Initialize the extractor for the highD dataset"
   ]
  },
  {
   "cell_type": "code",
   "execution_count": 2,
   "id": "241a53ea",
   "metadata": {},
   "outputs": [
    {
     "name": "stdout",
     "output_type": "stream",
     "text": [
      "\u001b[32m2025-05-02 14:18:13.000\u001b[0m | \u001b[33m\u001b[1mWARNING \u001b[0m | \u001b[36mlxd_io.dataset\u001b[0m:\u001b[36m_explore_maps_dir\u001b[0m:\u001b[36m272\u001b[0m - \u001b[33m\u001b[1mNo Lanelet2 map directories found.\u001b[0m\n",
      "\u001b[32m2025-05-02 14:18:13.000\u001b[0m | \u001b[33m\u001b[1mWARNING \u001b[0m | \u001b[36mlxd_io.dataset\u001b[0m:\u001b[36m_explore_maps_dir\u001b[0m:\u001b[36m289\u001b[0m - \u001b[33m\u001b[1mNo OpenDrive map directories found.\u001b[0m\n"
     ]
    }
   ],
   "source": [
    "from simple_scenario.lxd import HighdExtractor\n",
    "\n",
    "extractor = HighdExtractor(highd_dataset_dir)"
   ]
  },
  {
   "cell_type": "markdown",
   "id": "74851bb0",
   "metadata": {},
   "source": [
    "Get a dictionary with a generator for all valid simple-scenario `Scenario` instances per recording contained in the highD dataset"
   ]
  },
  {
   "cell_type": "code",
   "execution_count": 3,
   "id": "40e3b144",
   "metadata": {},
   "outputs": [
    {
     "name": "stdout",
     "output_type": "stream",
     "text": [
      "highD contains 60 recordings\n"
     ]
    }
   ],
   "source": [
    "recording_scenario_generators = extractor.extract_simple_scenarios()\n",
    "\n",
    "print(f\"highD contains {len(recording_scenario_generators)} recordings\")"
   ]
  },
  {
   "cell_type": "markdown",
   "id": "536914b2",
   "metadata": {},
   "source": [
    "Get the first few valid scenarios from recording `1`\n",
    "\n",
    "*If there is an error when extracting a scenario, the `scenario` is `None` and the `error_msg` contains more details about the error.*"
   ]
  },
  {
   "cell_type": "code",
   "execution_count": 4,
   "id": "b473ca42",
   "metadata": {},
   "outputs": [
    {
     "name": "stdout",
     "output_type": "stream",
     "text": [
      "Scenario ID: highd_r01_t00001_lower, scenario: None, error: track_too_short\n",
      "Scenario ID: highd_r01_t00002_upper, scenario: None, error: track_too_short\n",
      "Scenario ID: highd_r01_t00003_lower, scenario: None, error: track_too_short\n",
      "Scenario ID: highd_r01_t00004_upper, scenario: None, error: track_too_short\n",
      "Scenario ID: highd_r01_t00005_upper, scenario: None, error: track_too_short\n",
      "Scenario ID: highd_r01_t00006_lower, scenario: None, error: track_class_not_car\n",
      "Scenario ID: highd_r01_t00007_lower, scenario: None, error: track_too_short\n",
      "Scenario ID: highd_r01_t00008_upper, scenario: None, error: track_too_short\n",
      "Scenario ID: highd_r01_t00009_upper, scenario: None, error: track_too_short\n",
      "Scenario ID: highd_r01_t00010_lower, scenario: None, error: track_class_not_car\n",
      "Scenario ID: highd_r01_t00011_lower, scenario: None, error: track_too_short\n",
      "Scenario ID: highd_r01_t00012_lower, scenario: <Scenario highd_r01_t00012_lower (10.48s, dt: 0.04s, 9 vehicles)>, error: None\n",
      "Scenario ID: highd_r01_t00013_upper, scenario: None, error: track_too_short\n",
      "Scenario ID: highd_r01_t00014_lower, scenario: None, error: track_too_short\n",
      "Scenario ID: highd_r01_t00015_lower, scenario: <Scenario highd_r01_t00015_lower (10.56s, dt: 0.04s, 10 vehicles)>, error: None\n",
      "Scenario ID: highd_r01_t00016_upper, scenario: <Scenario highd_r01_t00016_upper (9.92s, dt: 0.04s, 8 vehicles)>, error: None\n",
      "Scenario ID: highd_r01_t00017_upper, scenario: <Scenario highd_r01_t00017_upper (8.40s, dt: 0.04s, 7 vehicles)>, error: None\n",
      "Scenario ID: highd_r01_t00018_upper, scenario: <Scenario highd_r01_t00018_upper (12.08s, dt: 0.04s, 10 vehicles)>, error: None\n"
     ]
    }
   ],
   "source": [
    "n_max_scenarios = 5\n",
    "\n",
    "extracted_scenarios = []\n",
    "\n",
    "for scenario_id, scenario, extraction_error_msg in recording_scenario_generators[1]:\n",
    "\n",
    "    print(f\"Scenario ID: {scenario_id}, scenario: {scenario}, error: {extraction_error_msg}\")\n",
    "\n",
    "    if scenario is not None:\n",
    "        extracted_scenarios.append(scenario)\n",
    "\n",
    "    if len(extracted_scenarios) == n_max_scenarios:\n",
    "        break"
   ]
  },
  {
   "cell_type": "markdown",
   "id": "faf28eca",
   "metadata": {},
   "source": [
    "Get a `Scenario` from a specific track ID (here: `12`) from recording `1`"
   ]
  },
  {
   "cell_type": "code",
   "execution_count": 5,
   "id": "734f3c87",
   "metadata": {},
   "outputs": [
    {
     "name": "stdout",
     "output_type": "stream",
     "text": [
      "Scenario ID: highd_r01_t00012_lower, scenario: <Scenario highd_r01_t00012_lower (10.48s, dt: 0.04s, 9 vehicles)>, error: None\n"
     ]
    }
   ],
   "source": [
    "scenario_id, scenario, extraction_error_msg = extractor.get_specific_scenario(1, 12)\n",
    "\n",
    "print(f\"Scenario ID: {scenario_id}, scenario: {scenario}, error: {extraction_error_msg}\")"
   ]
  },
  {
   "cell_type": "markdown",
   "id": "3cb0a05a",
   "metadata": {},
   "source": [
    "## More resources\n",
    "Please have a look at the other Notebooks in the `tutorials/` folder or directly in the `test/` folder to find out more details about the usage of `simple-scenario`."
   ]
  }
 ],
 "metadata": {
  "kernelspec": {
   "display_name": ".venv",
   "language": "python",
   "name": "python3"
  },
  "language_info": {
   "codemirror_mode": {
    "name": "ipython",
    "version": 3
   },
   "file_extension": ".py",
   "mimetype": "text/x-python",
   "name": "python",
   "nbconvert_exporter": "python",
   "pygments_lexer": "ipython3",
   "version": "3.8.20"
  }
 },
 "nbformat": 4,
 "nbformat_minor": 5
}
