{
 "cells": [
  {
   "cell_type": "markdown",
   "id": "9130be42",
   "metadata": {},
   "source": [
    "# Getting started with the `commonroad` extra"
   ]
  },
  {
   "cell_type": "markdown",
   "id": "d6fc0766",
   "metadata": {},
   "source": [
    "To use the code displayed in this Notebook, please install `simple-scenario` with the `commonroad` extra\n",
    "\n",
    "```bash\n",
    "pip install simple-scenario[commonroad]\n",
    "```\n",
    "\n",
    "Initial imports and definitions"
   ]
  },
  {
   "cell_type": "code",
   "execution_count": 1,
   "id": "dfb65433",
   "metadata": {},
   "outputs": [],
   "source": [
    "from __future__ import annotations\n",
    "\n",
    "import matplotlib.pyplot as plt\n",
    "from pathlib import Path\n",
    "\n",
    "result_dir = Path(\"results\")"
   ]
  },
  {
   "cell_type": "markdown",
   "id": "631cb96e",
   "metadata": {},
   "source": [
    "Create a scenario"
   ]
  },
  {
   "cell_type": "code",
   "execution_count": 2,
   "id": "add2ccee",
   "metadata": {},
   "outputs": [
    {
     "data": {
      "image/png": "[encoded data removed]",
      "text/plain": [
       "<Figure size 1600x900 with 1 Axes>"
      ]
     },
     "metadata": {},
     "output_type": "display_data"
    }
   ],
   "source": [
    "from simple_scenario import Scenario\n",
    "\n",
    "scenario = Scenario.from_x({\n",
    "  \"scenario_id\": \"slow_lead_object\",\n",
    "  \"road\": {\n",
    "    \"n_lanes\": 2,\n",
    "    \"lane_width\": 4,\n",
    "    \"segments\": [\n",
    "      {\n",
    "        \"length\": 150\n",
    "      }\n",
    "    ],\n",
    "    \"speed_limit\": 120,\n",
    "    \"goal_position\": 100,\n",
    "  },\n",
    "  \"ego_configuration\": {\n",
    "    \"lanelet_id\": 1000,\n",
    "    \"s0\": 10,\n",
    "    \"t0\": 0,\n",
    "    \"v0\": 22.23,\n",
    "  },\n",
    "  \"vehicles\": [\n",
    "    {\n",
    "      \"vehicle_id\": 0,\n",
    "      \"lanelet_id\": 1000,\n",
    "      \"s0\": 40,\n",
    "      \"t0\": 0,\n",
    "      \"v0\": 8.34,\n",
    "    }\n",
    "  ],\n",
    "  \"duration\": 9,\n",
    "  \"dt\": 0.1,\n",
    "})\n",
    "\n",
    "# Plot the scenario\n",
    "f, ax = plt.subplots(figsize=(16, 9))\n",
    "scenario.render(ax)\n",
    "ax.set_aspect(\"equal\")\n",
    "plt.show()"
   ]
  },
  {
   "cell_type": "markdown",
   "id": "640c32e4",
   "metadata": {},
   "source": [
    "Enables advanced features like feasibility checking of the scenario powered by the [CommonRoad Drivability Checker](https://commonroad.in.tum.de/tools/drivability-checker):"
   ]
  },
  {
   "cell_type": "code",
   "execution_count": 3,
   "id": "c3d8307e",
   "metadata": {},
   "outputs": [
    {
     "data": {
      "text/plain": [
       "True"
      ]
     },
     "execution_count": 3,
     "metadata": {},
     "output_type": "execute_result"
    }
   ],
   "source": [
    "scenario.is_feasible()"
   ]
  },
  {
   "cell_type": "markdown",
   "id": "6cf892ef",
   "metadata": {},
   "source": [
    "Enables conversion of simple-scenario scenarios to the [CommonRoad](https://commonroad.in.tum.de/) (CR) format.\n",
    "\n",
    "Directly save to CR `.xml`"
   ]
  },
  {
   "cell_type": "code",
   "execution_count": 4,
   "id": "a63299fe",
   "metadata": {},
   "outputs": [],
   "source": [
    "%%capture\n",
    "scenario.save(result_dir, mode=\"cr\")"
   ]
  },
  {
   "cell_type": "markdown",
   "id": "e5f9aaf6",
   "metadata": {},
   "source": [
    "Use CR scenario objects through the `cr_interface`."
   ]
  },
  {
   "cell_type": "markdown",
   "id": "2c720881",
   "metadata": {},
   "source": [
    "Create and access the `cr_interface`"
   ]
  },
  {
   "cell_type": "code",
   "execution_count": 5,
   "id": "e46cb0e6",
   "metadata": {},
   "outputs": [
    {
     "name": "stdout",
     "output_type": "stream",
     "text": [
      "<class 'simple_scenario.commonroad_interface.commonroad_interface.CommonroadInterface'>\n"
     ]
    }
   ],
   "source": [
    "cr_interface = scenario.get_cr_interface()\n",
    "print(type(cr_interface))"
   ]
  },
  {
   "cell_type": "markdown",
   "id": "3639cdc9",
   "metadata": {},
   "source": [
    "Get the CR scenario object"
   ]
  },
  {
   "cell_type": "code",
   "execution_count": null,
   "id": "b22902e1",
   "metadata": {},
   "outputs": [],
   "source": []
  },
  {
   "cell_type": "code",
   "execution_count": 6,
   "id": "04b8c1b1",
   "metadata": {},
   "outputs": [
    {
     "name": "stdout",
     "output_type": "stream",
     "text": [
      "\n",
      "Scenario:\n",
      "- Scenario ID: ZAM_slow_lead_object-0_0_T-0\n",
      "- Time step size: 0.1\n",
      "- Number of Obstacles: 1\n",
      "- Lanelets:\n",
      "LaneletNetwork consists of lanelets {1000, 1001}, intersections set(), traffic signs {1101}, and traffic lights set()\n"
     ]
    }
   ],
   "source": [
    "cr_scenario = cr_interface.scenario\n",
    "print(cr_scenario)"
   ]
  },
  {
   "cell_type": "markdown",
   "id": "a9874313",
   "metadata": {},
   "source": [
    "Get the CR PlanningProblemSet"
   ]
  },
  {
   "cell_type": "code",
   "execution_count": 7,
   "id": "63c98ac5",
   "metadata": {},
   "outputs": [
    {
     "name": "stdout",
     "output_type": "stream",
     "text": [
      "<class 'commonroad.planning.planning_problem.PlanningProblemSet'>\n"
     ]
    }
   ],
   "source": [
    "cr_planning_problem_set = cr_interface.planning_problem_set\n",
    "print(type(cr_planning_problem_set))"
   ]
  },
  {
   "cell_type": "markdown",
   "id": "d3c77dbc",
   "metadata": {},
   "source": [
    "Get the CR LaneletNetwork (wrapped in custom LaneletNetworkWrapper with additional convenience functions)"
   ]
  },
  {
   "cell_type": "code",
   "execution_count": 8,
   "id": "d76ded2a",
   "metadata": {},
   "outputs": [
    {
     "name": "stdout",
     "output_type": "stream",
     "text": [
      "<class 'simple_scenario.lanelet_network_wrapper.lanelet_network_wrapper.LaneletNetworkWrapper'>\n"
     ]
    }
   ],
   "source": [
    "cr_lanelet_network_wrapper = cr_interface.lanelet_network_wrapper\n",
    "print(type(cr_lanelet_network_wrapper))"
   ]
  },
  {
   "cell_type": "markdown",
   "id": "e88b09d2",
   "metadata": {},
   "source": [
    "E.g., transform a point on the centerline of a lanelet (with ID `lanelet_id`) to the cartesian coordinate frame"
   ]
  },
  {
   "cell_type": "code",
   "execution_count": 9,
   "id": "bfda4416",
   "metadata": {},
   "outputs": [
    {
     "name": "stdout",
     "output_type": "stream",
     "text": [
      "x: 100.0, y: -6.0\n"
     ]
    }
   ],
   "source": [
    "lanelet_id = 1000\n",
    "x, y = cr_lanelet_network_wrapper.from_llt_frenet_to_cart(lanelet_id, s=100, t=0)\n",
    "print(f\"x: {x}, y: {y}\")"
   ]
  },
  {
   "cell_type": "markdown",
   "id": "f4098cfc",
   "metadata": {},
   "source": [
    "or find the lanelet a certain point is located in"
   ]
  },
  {
   "cell_type": "code",
   "execution_count": 10,
   "id": "523f3b57",
   "metadata": {},
   "outputs": [
    {
     "name": "stdout",
     "output_type": "stream",
     "text": [
      "1000\n"
     ]
    }
   ],
   "source": [
    "print(cr_lanelet_network_wrapper.find_lanelet_id_by_position(x, y))"
   ]
  },
  {
   "cell_type": "markdown",
   "id": "2abd7a76",
   "metadata": {},
   "source": [
    "## More resources\n",
    "Please have a look at the other Notebooks in the `tutorials/` folder or directly in the `test/` folder to find out more details about the usage of `simple-scenario`."
   ]
  }
 ],
 "metadata": {
  "kernelspec": {
   "display_name": ".venv",
   "language": "python",
   "name": "python3"
  },
  "language_info": {
   "codemirror_mode": {
    "name": "ipython",
    "version": 3
   },
   "file_extension": ".py",
   "mimetype": "text/x-python",
   "name": "python",
   "nbconvert_exporter": "python",
   "pygments_lexer": "ipython3",
   "version": "3.8.20"
  }
 },
 "nbformat": 4,
 "nbformat_minor": 5
}
